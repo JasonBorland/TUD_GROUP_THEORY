{
 "cells": [
  {
   "cell_type": "markdown",
   "metadata": {},
   "source": [
    "# DT8248 Stage 4 Group Theory Problem Set 5\n",
    "## Name: Jason Borland\n",
    "## Student Number: D17129310"
   ]
  },
  {
   "cell_type": "markdown",
   "metadata": {},
   "source": [
    "### Question 1: \n",
    "If $(A, *_A), (B, *_B)$ are two groups, the direct product $A \\times B$ is defined to be the group with underlying set $\\lbrace(a,b) : a\\in A, b\\in B\\rbrace$ with componentwise operation; i.e. $(a_1, b_1)*(a_2,b_2) = (a_1*_A a_2, b_1*_B b_2)$.  \n",
    "\n",
    "a. Verify that the direct product $A \\times B$ is really a group.\n",
    "\n",
    "b. Show that A is isomorphic to a subgroup of $A \\times B$.\n",
    "\n",
    "c. For any prime number p, what are the possible subgroups (up to isomorphism) of $\\mathbb{Z}_p \\times \\mathbb{Z}_p$? Explain your answer.\n"
   ]
  },
  {
   "cell_type": "markdown",
   "metadata": {},
   "source": [
    "### Q1a:\n",
    "*Definition* Let G be a non-empty set together with a binary operation *, that assigns to each ordered pair (a,b) of elements of G an element of G denoted ab.  \n",
    "$$(a,b) \\to ab$$\n",
    "\n",
    "We say $(G,*)$ is a group under the operation * if:\n",
    "1. Associativity. $(ab)c = a(bc) \\forall a,b,c \\in G$\n",
    "2. Identity. $\\exists e \\in G$ s.t. $ae = ea = a, \\forall a \\in G$\n",
    "3. Inverse. $\\forall a \\in G, \\exists b \\in G$ s.t. $ab = ba = e$. b is the inverse of a and denoted $a^{-1}$.\n",
    "\n",
    "To verify that the direct product is a group we need to 1, 2, and 3 and that $A \\times B$ is closed under the operation (direct product).\n",
    "\n",
    "Clearly $A \\times B$ is closed under the direct product.  Note $(a_1,b_1)(a_2,b_2) = (a_1a_2, b_1b_2) \\in A \\times B$ as $a_1a_2 \\in A$ and $b_1b_2 \\in B$.\n",
    "\n",
    "1. Consider elements $(a_1,b_1), (a_2,b_2), (a_3,b_3) \\in A \\times B$ Also note associativity holds in the componentwise operations of $A \\times B$ as A and B are both groups.\n",
    "$$\n",
    "\\begin{aligned}\n",
    " [(a_1,b_1)(a_2,b_2)](a_3,b_3) &= (a_1,b_1)[(a_2,b_2)(a_3,b_3)] \\\\\n",
    " (a_1a_2, b_1b_2)(a_3,b_3) &= (a_1,b_1)(a_2a_3, b_2b_3) \\\\\n",
    " (a_1a_2a_3, b_1b_2b_3) &= (a_1a_2a_3, b_1b_2b_3) \\\\\n",
    "\\end{aligned}\n",
    "$$\n",
    "\n",
    "So associativity holds for $A \\times B$\n",
    "\n",
    "2. Both A and B are groups so each contains an identity element $e_A$ and $e_B$ respectively. Consider $(e_A, e_B) \\in A\\times B$.   \n",
    "$$\n",
    "\\begin{aligned}\n",
    " (e_A, e_B)(a,b) &= (e_Aa, e_Bb) \\\\\n",
    "  &= (a,b) \\\\\n",
    "  (a,b)(e_A, e_B) &= (ae_A, be_B) \\\\\n",
    "  &= (a,b)\\\\\n",
    "\\end{aligned}\n",
    "$$\n",
    "$A \\times B$ contains the identity element $(e_A, e_B)$.\n",
    "\n",
    "\n",
    "3. Both A and B are groups, so every element  $a \\in A$ and $b \\in B$ contains an inverse $a^{-1} \\in A$ and $b^{-1} \\in B$.  So for an element $(a,b) \\in A \\times B$, the inverse is $(a^{-1}, b^{-1})$.  \n",
    "\\begin{aligned}\n",
    " (a,b)(a^{-1},b^{-1}) &= (aa^{-1}, bb^{-1}) \\\\\n",
    "  &= (e_A,e_B) \\\\\n",
    "  (a^{-1},b^{-1})(a,b) &= (a^{-1}a, b^{-1}b) \\\\\n",
    "  &= (e_A, e_B)\\\\\n",
    "\\end{aligned}\n",
    "\n",
    "Every element $(a,b) \\in A \\times B$ contains the identity element $(a^{-1},b^{-1}) \\in A \\times B$.\n",
    "\n",
    "\n",
    "\n"
   ]
  },
  {
   "cell_type": "markdown",
   "metadata": {},
   "source": [
    "### Q1b:\n",
    "*Definition* An isomorphism $\\phi: G \\to H$ is a bijection (one-to-one and onto mapping) which preserves the group operation.\n",
    "$$\\phi(a *_G b) = \\phi(a) \\diamond_H \\phi(b), \\quad \\forall a,b \\in G$$\n",
    "If there is an isomorphism from G to H we say G and H are isomorphic groups and denote: $G \\cong H$.\n",
    "\n",
    "We need to consider a subgroup of $A \\times B$. I propose the subgroup $K = \\lbrace(a,e_B) : a\\in A, e_B$ is identity in $B\\rbrace$.  Firstly we need to show this is a subgroup of $A \\times B$.  To do this we are going to use the 'one-step' subgroup test:\n",
    "\n",
    "1. The elements of K are all elements of $A \\times B$ where the b component is fixed to $e_B$ (the identity in B).\n",
    "2. The identity is in K, as $e_A \\in A$ and b is fixed to $e_B$.  The identity being $(e_A,e_B) \\in K$\n",
    "3. Lets consider two elements in K, say $k_1= (a_1, e_B)$ and $k_2 = (a_2, e_B)$.\n",
    "4. If $k_2 = (a_2, e_B)$, then $k_2^{-1} = (a_2^{-1}, e_B)$. Note $e_B^{-1}=e_B$ as, $e_B$ is the identity.  \n",
    "$$\n",
    "\\begin{aligned}\n",
    "\n",
    "\\end{aligned}\n",
    "$$\n"
   ]
  },
  {
   "cell_type": "code",
   "execution_count": null,
   "metadata": {},
   "outputs": [],
   "source": []
  }
 ],
 "metadata": {
  "kernelspec": {
   "display_name": "Python 3.7.6 64-bit ('base37': conda)",
   "language": "python",
   "name": "python37664bitbase37condaa4b23bafa85c4735b71c45b7bba63238"
  },
  "language_info": {
   "codemirror_mode": {
    "name": "ipython",
    "version": 3
   },
   "file_extension": ".py",
   "mimetype": "text/x-python",
   "name": "python",
   "nbconvert_exporter": "python",
   "pygments_lexer": "ipython3",
   "version": "3.7.6"
  }
 },
 "nbformat": 4,
 "nbformat_minor": 2
}
